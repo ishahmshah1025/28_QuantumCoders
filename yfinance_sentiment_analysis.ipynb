{
  "nbformat": 4,
  "nbformat_minor": 0,
  "metadata": {
    "colab": {
      "provenance": [],
      "authorship_tag": "ABX9TyMkELaQ1UJe+2rfdwGTgeHE",
      "include_colab_link": true
    },
    "kernelspec": {
      "name": "python3",
      "display_name": "Python 3"
    },
    "language_info": {
      "name": "python"
    }
  },
  "cells": [
    {
      "cell_type": "markdown",
      "metadata": {
        "id": "view-in-github",
        "colab_type": "text"
      },
      "source": [
        "<a href=\"https://colab.research.google.com/github/ishahmshah1025/Mindspark-24/blob/main/yfinance_sentiment_analysis.ipynb\" target=\"_parent\"><img src=\"https://colab.research.google.com/assets/colab-badge.svg\" alt=\"Open In Colab\"/></a>"
      ]
    },
    {
      "cell_type": "code",
      "source": [
        "pip install yfinance nltk requests\n"
      ],
      "metadata": {
        "colab": {
          "base_uri": "https://localhost:8080/"
        },
        "id": "w1H-bisMRKOa",
        "outputId": "f4ee22a0-6589-4291-dafc-93aedaff5fa0"
      },
      "execution_count": null,
      "outputs": [
        {
          "output_type": "stream",
          "name": "stdout",
          "text": [
            "Requirement already satisfied: yfinance in /usr/local/lib/python3.10/dist-packages (0.2.44)\n",
            "Requirement already satisfied: nltk in /usr/local/lib/python3.10/dist-packages (3.8.1)\n",
            "Requirement already satisfied: requests in /usr/local/lib/python3.10/dist-packages (2.32.3)\n",
            "Requirement already satisfied: pandas>=1.3.0 in /usr/local/lib/python3.10/dist-packages (from yfinance) (2.2.2)\n",
            "Requirement already satisfied: numpy>=1.16.5 in /usr/local/lib/python3.10/dist-packages (from yfinance) (1.26.4)\n",
            "Requirement already satisfied: multitasking>=0.0.7 in /usr/local/lib/python3.10/dist-packages (from yfinance) (0.0.11)\n",
            "Requirement already satisfied: lxml>=4.9.1 in /usr/local/lib/python3.10/dist-packages (from yfinance) (4.9.4)\n",
            "Requirement already satisfied: platformdirs>=2.0.0 in /usr/local/lib/python3.10/dist-packages (from yfinance) (4.3.6)\n",
            "Requirement already satisfied: pytz>=2022.5 in /usr/local/lib/python3.10/dist-packages (from yfinance) (2024.2)\n",
            "Requirement already satisfied: frozendict>=2.3.4 in /usr/local/lib/python3.10/dist-packages (from yfinance) (2.4.5)\n",
            "Requirement already satisfied: peewee>=3.16.2 in /usr/local/lib/python3.10/dist-packages (from yfinance) (3.17.6)\n",
            "Requirement already satisfied: beautifulsoup4>=4.11.1 in /usr/local/lib/python3.10/dist-packages (from yfinance) (4.12.3)\n",
            "Requirement already satisfied: html5lib>=1.1 in /usr/local/lib/python3.10/dist-packages (from yfinance) (1.1)\n",
            "Requirement already satisfied: click in /usr/local/lib/python3.10/dist-packages (from nltk) (8.1.7)\n",
            "Requirement already satisfied: joblib in /usr/local/lib/python3.10/dist-packages (from nltk) (1.4.2)\n",
            "Requirement already satisfied: regex>=2021.8.3 in /usr/local/lib/python3.10/dist-packages (from nltk) (2024.9.11)\n",
            "Requirement already satisfied: tqdm in /usr/local/lib/python3.10/dist-packages (from nltk) (4.66.5)\n",
            "Requirement already satisfied: charset-normalizer<4,>=2 in /usr/local/lib/python3.10/dist-packages (from requests) (3.4.0)\n",
            "Requirement already satisfied: idna<4,>=2.5 in /usr/local/lib/python3.10/dist-packages (from requests) (3.10)\n",
            "Requirement already satisfied: urllib3<3,>=1.21.1 in /usr/local/lib/python3.10/dist-packages (from requests) (2.2.3)\n",
            "Requirement already satisfied: certifi>=2017.4.17 in /usr/local/lib/python3.10/dist-packages (from requests) (2024.8.30)\n",
            "Requirement already satisfied: soupsieve>1.2 in /usr/local/lib/python3.10/dist-packages (from beautifulsoup4>=4.11.1->yfinance) (2.6)\n",
            "Requirement already satisfied: six>=1.9 in /usr/local/lib/python3.10/dist-packages (from html5lib>=1.1->yfinance) (1.16.0)\n",
            "Requirement already satisfied: webencodings in /usr/local/lib/python3.10/dist-packages (from html5lib>=1.1->yfinance) (0.5.1)\n",
            "Requirement already satisfied: python-dateutil>=2.8.2 in /usr/local/lib/python3.10/dist-packages (from pandas>=1.3.0->yfinance) (2.8.2)\n",
            "Requirement already satisfied: tzdata>=2022.7 in /usr/local/lib/python3.10/dist-packages (from pandas>=1.3.0->yfinance) (2024.2)\n"
          ]
        }
      ]
    },
    {
      "cell_type": "code",
      "execution_count": null,
      "metadata": {
        "colab": {
          "base_uri": "https://localhost:8080/"
        },
        "id": "jzLnxZErRFCu",
        "outputId": "62fcfc12-b165-4454-cb44-740b34229f32"
      },
      "outputs": [
        {
          "output_type": "stream",
          "name": "stderr",
          "text": [
            "[nltk_data] Downloading package vader_lexicon to /root/nltk_data...\n"
          ]
        },
        {
          "output_type": "stream",
          "name": "stdout",
          "text": [
            "Stock Data:\n",
            "                                 Open        High         Low       Close  \\\n",
            "Date                                                                        \n",
            "2024-10-11 00:00:00-04:00  229.300003  229.410004  227.339996  227.550003   \n",
            "2024-10-14 00:00:00-04:00  228.699997  231.729996  228.600006  231.300003   \n",
            "2024-10-15 00:00:00-04:00  233.610001  237.490005  232.369995  233.850006   \n",
            "2024-10-16 00:00:00-04:00  231.600006  232.119995  229.839996  231.779999   \n",
            "2024-10-17 00:00:00-04:00  233.429993  233.850006  230.520004  232.149994   \n",
            "\n",
            "                             Volume  Dividends  Stock Splits  \n",
            "Date                                                          \n",
            "2024-10-11 00:00:00-04:00  31759200        0.0           0.0  \n",
            "2024-10-14 00:00:00-04:00  39882100        0.0           0.0  \n",
            "2024-10-15 00:00:00-04:00  64751400        0.0           0.0  \n",
            "2024-10-16 00:00:00-04:00  34082200        0.0           0.0  \n",
            "2024-10-17 00:00:00-04:00  32978900        0.0           0.0  \n",
            "\n",
            "Sentiment Analysis Results:\n",
            "Headline: AAPL stock rallies after earnings report., Sentiment: {'neg': 0.0, 'neu': 1.0, 'pos': 0.0, 'compound': 0.0}\n",
            "Headline: Analysts predict a downturn for AAPL in the coming months., Sentiment: {'neg': 0.0, 'neu': 1.0, 'pos': 0.0, 'compound': 0.0}\n",
            "Headline: AAPL faces legal challenges over patent issues., Sentiment: {'neg': 0.0, 'neu': 0.641, 'pos': 0.359, 'compound': 0.2023}\n",
            "Headline: Market response to AAPL's latest product launch is overwhelmingly positive., Sentiment: {'neg': 0.115, 'neu': 0.611, 'pos': 0.275, 'compound': 0.4767}\n"
          ]
        }
      ],
      "source": [
        "import yfinance as yf\n",
        "import requests\n",
        "from nltk.sentiment import SentimentIntensityAnalyzer\n",
        "import nltk\n",
        "\n",
        "# Download VADER for sentiment analysis\n",
        "nltk.download('vader_lexicon')\n",
        "\n",
        "# Function to fetch stock data\n",
        "def fetch_stock_data(ticker):\n",
        "    stock = yf.Ticker(ticker)\n",
        "    data = stock.history(period='5d')  # Fetch the last 5 days of data\n",
        "    return data\n",
        "\n",
        "# Function to fetch news headlines (placeholder function)\n",
        "def fetch_news_headlines(ticker):\n",
        "    # In practice, you would replace this with actual news fetching logic\n",
        "    # For now, we are using static headlines for demonstration\n",
        "    return [\n",
        "        f\"{ticker} stock rallies after earnings report.\",\n",
        "        f\"Analysts predict a downturn for {ticker} in the coming months.\",\n",
        "        f\"{ticker} faces legal challenges over patent issues.\",\n",
        "        f\"Market response to {ticker}'s latest product launch is overwhelmingly positive.\"\n",
        "    ]\n",
        "\n",
        "# Function to perform sentiment analysis\n",
        "def analyze_sentiment(headlines):\n",
        "    sia = SentimentIntensityAnalyzer()\n",
        "    sentiments = []\n",
        "    for headline in headlines:\n",
        "        sentiment = sia.polarity_scores(headline)\n",
        "        sentiments.append((headline, sentiment))\n",
        "    return sentiments\n",
        "\n",
        "# Main function\n",
        "def main(ticker):\n",
        "    # Fetch stock data\n",
        "    stock_data = fetch_stock_data(ticker)\n",
        "    print(\"Stock Data:\")\n",
        "    print(stock_data)\n",
        "\n",
        "    # Fetch news headlines\n",
        "    headlines = fetch_news_headlines(ticker)\n",
        "\n",
        "    # Perform sentiment analysis\n",
        "    sentiment_results = analyze_sentiment(headlines)\n",
        "\n",
        "    print(\"\\nSentiment Analysis Results:\")\n",
        "    for headline, sentiment in sentiment_results:\n",
        "        print(f\"Headline: {headline}, Sentiment: {sentiment}\")\n",
        "\n",
        "# Example usage\n",
        "if __name__ == \"__main__\":\n",
        "    main(\"AAPL\")  # Replace 'AAPL' with your desired stock ticker\n"
      ]
    },
    {
      "cell_type": "code",
      "source": [
        "pip install beautifulsoup4"
      ],
      "metadata": {
        "colab": {
          "base_uri": "https://localhost:8080/"
        },
        "id": "FIRdDYElilGC",
        "outputId": "fa36296a-f9ff-4dc4-b76c-ac216266052a"
      },
      "execution_count": 3,
      "outputs": [
        {
          "output_type": "stream",
          "name": "stdout",
          "text": [
            "Requirement already satisfied: beautifulsoup4 in /usr/local/lib/python3.10/dist-packages (4.12.3)\n",
            "Requirement already satisfied: soupsieve>1.2 in /usr/local/lib/python3.10/dist-packages (from beautifulsoup4) (2.6)\n"
          ]
        }
      ]
    },
    {
      "cell_type": "code",
      "source": [
        "import yfinance as yf\n",
        "import requests\n",
        "from bs4 import BeautifulSoup\n",
        "from nltk.sentiment import SentimentIntensityAnalyzer\n",
        "import nltk\n",
        "\n",
        "# Download VADER for sentiment analysis\n",
        "nltk.download('vader_lexicon')\n",
        "\n",
        "# Function to fetch stock data\n",
        "def fetch_stock_data(ticker):\n",
        "    stock = yf.Ticker(ticker)\n",
        "    data = stock.history(period='5d')  # Fetch the last 5 days of data\n",
        "    return data\n",
        "\n",
        "# Function to fetch news articles from Yahoo Finance\n",
        "def fetch_news_articles(ticker):\n",
        "    url = f\"https://finance.yahoo.com/quote/{ticker}/news?p={ticker}\"\n",
        "    response = requests.get(url)\n",
        "    soup = BeautifulSoup(response.text, 'html.parser')\n",
        "    articles = []\n",
        "\n",
        "    for item in soup.find_all('li', class_='js-stream-content'):\n",
        "        headline = item.find('h3').text\n",
        "        link = item.find('a')['href']\n",
        "        if not link.startswith('http'):\n",
        "            link = 'https://finance.yahoo.com' + link\n",
        "        articles.append((headline, link))\n",
        "\n",
        "    return articles\n",
        "\n",
        "# Function to fetch the content of each article\n",
        "def fetch_article_content(url):\n",
        "    try:\n",
        "        response = requests.get(url)\n",
        "        soup = BeautifulSoup(response.text, 'html.parser')\n",
        "        paragraphs = soup.find_all('p')\n",
        "        content = ' '.join([para.text for para in paragraphs])\n",
        "        return content\n",
        "    except Exception as e:\n",
        "        print(f\"Error fetching article content: {e}\")\n",
        "        return \"\"\n",
        "\n",
        "# Function to perform sentiment analysis\n",
        "def analyze_sentiment(article_contents):\n",
        "    sia = SentimentIntensityAnalyzer()\n",
        "    sentiments = []\n",
        "    for content in article_contents:\n",
        "        sentiment = sia.polarity_scores(content)\n",
        "        sentiments.append(sentiment)\n",
        "    return sentiments\n",
        "\n",
        "# Main function\n",
        "def main(ticker):\n",
        "    # Fetch stock data\n",
        "    stock_data = fetch_stock_data(ticker)\n",
        "    print(\"Stock Data:\")\n",
        "    print(stock_data)\n",
        "\n",
        "    # Fetch news articles\n",
        "    articles = fetch_news_articles(ticker)\n",
        "\n",
        "    # Fetch the content of each article\n",
        "    article_contents = []\n",
        "    for _, link in articles:\n",
        "        content = fetch_article_content(link)\n",
        "        if content:  # Only add non-empty contents\n",
        "            article_contents.append(content)\n",
        "\n",
        "    # Perform sentiment analysis\n",
        "    sentiment_results = analyze_sentiment(article_contents)\n",
        "\n",
        "    print(\"\\nSentiment Analysis Results:\")\n",
        "    for (headline, _), sentiment in zip(articles, sentiment_results):\n",
        "        print(f\"Headline: {headline}\\nSentiment: {sentiment}\\n\")\n",
        "\n",
        "# Example usage\n",
        "if __name__ == \"__main__\":\n",
        "    main(\"AAPL\")  # Replace 'AAPL' with your desired stock ticker\n"
      ],
      "metadata": {
        "colab": {
          "base_uri": "https://localhost:8080/"
        },
        "id": "zS-SmjTkjZKD",
        "outputId": "5615b769-8f5d-49fb-ad8b-6be68d326ca2"
      },
      "execution_count": 5,
      "outputs": [
        {
          "output_type": "stream",
          "name": "stderr",
          "text": [
            "[nltk_data] Downloading package vader_lexicon to /root/nltk_data...\n",
            "[nltk_data]   Package vader_lexicon is already up-to-date!\n"
          ]
        },
        {
          "output_type": "stream",
          "name": "stdout",
          "text": [
            "Stock Data:\n",
            "                                 Open        High         Low       Close  \\\n",
            "Date                                                                        \n",
            "2024-10-11 00:00:00-04:00  229.300003  229.410004  227.339996  227.550003   \n",
            "2024-10-14 00:00:00-04:00  228.699997  231.729996  228.600006  231.300003   \n",
            "2024-10-15 00:00:00-04:00  233.610001  237.490005  232.369995  233.850006   \n",
            "2024-10-16 00:00:00-04:00  231.600006  232.119995  229.839996  231.779999   \n",
            "2024-10-17 00:00:00-04:00  233.429993  233.850006  230.520004  232.149994   \n",
            "\n",
            "                             Volume  Dividends  Stock Splits  \n",
            "Date                                                          \n",
            "2024-10-11 00:00:00-04:00  31759200        0.0           0.0  \n",
            "2024-10-14 00:00:00-04:00  39882100        0.0           0.0  \n",
            "2024-10-15 00:00:00-04:00  64751400        0.0           0.0  \n",
            "2024-10-16 00:00:00-04:00  34082200        0.0           0.0  \n",
            "2024-10-17 00:00:00-04:00  32978900        0.0           0.0  \n",
            "\n",
            "Sentiment Analysis Results:\n"
          ]
        }
      ]
    }
  ]
}